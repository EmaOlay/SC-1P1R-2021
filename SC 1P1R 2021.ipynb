{
 "cells": [
  {
   "cell_type": "code",
   "execution_count": 24,
   "id": "0a56c0d8",
   "metadata": {},
   "outputs": [],
   "source": [
    "from scipy import signal\n",
    "from sympy import *\n",
    "import matplotlib.pyplot as plt\n",
    "import math as m\n",
    "#from splane import pzmap, grpDelay, bodePlot\n",
    "import numpy as np"
   ]
  },
  {
   "cell_type": "markdown",
   "id": "b92978e5",
   "metadata": {},
   "source": [
    "# Resolucion 1R_SControl_2021_02_12:"
   ]
  },
  {
   "cell_type": "markdown",
   "id": "e0bf302e",
   "metadata": {},
   "source": [
    "# Ejercicio 1)\n",
    "a) La variable a controlar debe ser la presion del liquido en nuestro sensor ya que es la variable que re-alimentamos para abrir o cerrar la valvula.<br>\n",
    "b)En regimen permanente el valor dependera de la altura(H), la densidad del liquido($\\delta$), la gravedad(g) y las demas constantes del sistema.<br>\n",
    "c)<img src=\"./Bloques 1.png\" align=\"center\" width=\"80%\" />\n",
    "d)Medimos el error a la salida del sumador: $E_{(S)}=R_{(S)}*\\frac{1}{1+G_{(S)}}$\n",
    "<img src=\"./Bloques 2.png\" align=\"center\" width=\"80%\" />"
   ]
  },
  {
   "cell_type": "markdown",
   "id": "0a2691c6",
   "metadata": {},
   "source": [
    "## Ejercicio 2)\n"
   ]
  },
  {
   "cell_type": "code",
   "execution_count": 25,
   "id": "91b7564d",
   "metadata": {},
   "outputs": [
    {
     "name": "stdout",
     "output_type": "stream",
     "text": [
      "A=\n",
      "⎡-1  -3⎤\n",
      "⎢      ⎥\n",
      "⎣5   -3⎦\n",
      "B=\n",
      "⎡3⎤\n",
      "⎢ ⎥\n",
      "⎣0⎦\n",
      "C=\n",
      "[0  1]\n",
      "D=\n",
      "[0]\n",
      "tf=\n",
      "         15        \n",
      "───────────────────\n",
      "     2             \n",
      "1.0⋅S  + 4.0⋅S + 18\n",
      "     ⎛         15        ⎞\n",
      " lim ⎜───────────────────⎟\n",
      "S─→0⁺⎜     2             ⎟\n",
      "     ⎝1.0⋅S  + 4.0⋅S + 18⎠\n",
      "5/6\n",
      "Paso la tf al tiempo\n",
      "TF[0]=\n"
     ]
    },
    {
     "data": {
      "text/latex": [
       "$\\displaystyle 4.00891862868636 e^{- 2.0 t} \\sin{\\left(3.74165738677394 t \\right)} \\theta\\left(t\\right)$"
      ],
      "text/plain": [
       "4.00891862868636*exp(-2.0*t)*sin(3.74165738677394*t)*Heaviside(t)"
      ]
     },
     "execution_count": 25,
     "metadata": {},
     "output_type": "execute_result"
    }
   ],
   "source": [
    "S= symbols('S')\n",
    "\n",
    "####Declaro las matrices\n",
    "A=Matrix(([-1,-3],\n",
    "          [5,-3]))\n",
    "B=Matrix(([3],\n",
    "          [0]))\n",
    "C=Matrix(([0,1],))\n",
    "D=Matrix(([0],))\n",
    "####Inspeccion visual de las matrices\n",
    "print(\"A=\")\n",
    "pprint(A)\n",
    "print(\"B=\")\n",
    "pprint(B)\n",
    "print(\"C=\")\n",
    "pprint(C)\n",
    "print(\"D=\")\n",
    "pprint(D)\n",
    "###Trabajo las matrices para conseguir tf\n",
    "aux=S*np.identity(2) - A\n",
    "auxinv= aux.inv('ADJ')\n",
    "### Verificacion del trabajo intermedio, medio innecesario\n",
    "#print(\"aux=\")\n",
    "#pprint(aux)\n",
    "#print(\"aux inv=\")\n",
    "#pprint(auxinv)\n",
    "#### Finalmente obtengo Tf\n",
    "tf=C * auxinv * B + D\n",
    "print(\"tf=\")\n",
    "pprint(tf[0])\n",
    "###Aplico teorema del valor final\n",
    "expr = Limit(tf[0], S, 0)\n",
    "pprint(expr)\n",
    "pprint(expr.doit())\n",
    "\n",
    "print(\"Paso la tf al tiempo\")\n",
    "t = symbols('t')\n",
    "#w = symbols('w', real = True)\n",
    "expression = tf[0]\n",
    "print(\"TF[0]=\")\n",
    "inverse_laplace_transform(expression, S, t)"
   ]
  },
  {
   "cell_type": "code",
   "execution_count": 26,
   "id": "b1e9673b",
   "metadata": {},
   "outputs": [
    {
     "name": "stdout",
     "output_type": "stream",
     "text": [
      "Numerador=\n",
      "[[0.0000000e+00 4.4408921e-16 1.5000000e+01]]\n",
      "Denominador=\n",
      "[ 1.  4. 18.]\n"
     ]
    },
    {
     "name": "stderr",
     "output_type": "stream",
     "text": [
      "F:\\Anaconda\\lib\\site-packages\\scipy\\signal\\filter_design.py:1630: BadCoefficients: Badly conditioned filter coefficients (numerator): the results may be meaningless\n",
      "  warnings.warn(\"Badly conditioned filter coefficients (numerator): the \"\n"
     ]
    },
    {
     "data": {
      "text/plain": [
       "[<matplotlib.lines.Line2D at 0x1ca74a523a0>]"
      ]
     },
     "execution_count": 26,
     "metadata": {},
     "output_type": "execute_result"
    },
    {
     "data": {
      "image/png": "[encoded data removed]",
      "text/plain": [
       "<Figure size 432x288 with 1 Axes>"
      ]
     },
     "metadata": {
      "needs_background": "light"
     },
     "output_type": "display_data"
    }
   ],
   "source": [
    "#### Version scipy\n",
    "### Declaro las matrices\n",
    "A = [[-1, -3], [5, -3]]\n",
    "B = [[3], [0]]  # 2-D column vector\n",
    "C = [[0, 1]]    # 2-D row vector\n",
    "D = 0\n",
    "#### Paso de Space State a Tf\n",
    "(system)=signal.ss2tf(A, B, C, D)\n",
    "print('Numerador=')\n",
    "pprint(system[0])\n",
    "print('Denominador=')\n",
    "pprint(system[1])\n",
    "t, y = signal.step(system)\n",
    "import matplotlib.pyplot as plt\n",
    "plt.plot(t, y)"
   ]
  },
  {
   "cell_type": "code",
   "execution_count": 27,
   "id": "66cf43f9",
   "metadata": {},
   "outputs": [
    {
     "name": "stdout",
     "output_type": "stream",
     "text": [
      "    2            \n",
      "   S  + 4⋅S + 7  \n",
      "─────────────────\n",
      "  ⎛ 2           ⎞\n",
      "S⋅⎝S  + 4⋅S + 18⎠\n",
      "     ⎛  ⎛    2                                ⎞⎞\n",
      "     ⎜  ⎜   S  + 4⋅S + 3             4        ⎟⎟\n",
      " lim ⎜S⋅⎜───────────────── + ─────────────────⎟⎟\n",
      "S─→0⁺⎜  ⎜  ⎛ 2           ⎞     ⎛ 2           ⎞⎟⎟\n",
      "     ⎝  ⎝S⋅⎝S  + 4⋅S + 18⎠   S⋅⎝S  + 4⋅S + 18⎠⎠⎠\n",
      "E_T=\n",
      "7/18\n"
     ]
    }
   ],
   "source": [
    "E_R=(S**2+4*S+3)/(S**2+4*S+18)*1/S\n",
    "C_N=4/(S*(S**2+4*S+18))\n",
    "E_T=E_R+C_N\n",
    "pprint(simplify(E_T))\n",
    "###Aplico teorema del valor final\n",
    "expr = Limit(E_T*S, S, 0)\n",
    "pprint(expr)\n",
    "print(\"E_T=\")\n",
    "pprint(expr.doit())"
   ]
  },
  {
   "cell_type": "markdown",
   "id": "add16cb7",
   "metadata": {},
   "source": [
    "### 2-d)\n",
    "Ecuaciones:\n",
    "$$X_1=R-H*Y$$\n",
    "$$X_2=N+G_1*X_1$$\n",
    "$$Y=X_2*G_2*G_3$$\n",
    "Al reemplazar y despejar resulta:<br>\n",
    "$$Y=N*\\frac{G_2*G_3}{1+H*G_1*G_2*G_3}+R*\\frac{G_1*G_2*G_3}{1+H*G_1*G_2*G_3}$$\n",
    "<img src=\"./Capture2.PNG\" align=\"center\" width=\"80%\" />"
   ]
  },
  {
   "cell_type": "code",
   "execution_count": 28,
   "id": "4e32ff3d",
   "metadata": {},
   "outputs": [
    {
     "name": "stdout",
     "output_type": "stream",
     "text": [
      "     ⎛  ⎛                  5⋅N                                   5⋅R⋅(3⋅S + 6)\n",
      " lim ⎜S⋅⎜─────────────────────────────────────── + ───────────────────────────\n",
      "S─→0⁺⎜  ⎜⎛       5⋅(3⋅S + 6)   ⎞                     ⎛       5⋅(3⋅S + 6)   ⎞  \n",
      "     ⎜  ⎜⎜1 + ─────────────────⎟⋅(S + 1)⋅(S + 3)   S⋅⎜1 + ─────────────────⎟⋅(\n",
      "     ⎝  ⎝⎝    S⋅(S + 1)⋅(S + 3)⎠                     ⎝    S⋅(S + 1)⋅(S + 3)⎠  \n",
      "\n",
      "              ⎞⎞\n",
      "──────────────⎟⎟\n",
      "              ⎟⎟\n",
      "S + 1)⋅(S + 3)⎟⎟\n",
      "              ⎠⎠\n",
      "Y=\n",
      "0\n"
     ]
    }
   ],
   "source": [
    "N, R= symbols('N,R')\n",
    "G_1=3*(S+2)/S\n",
    "G_2=5/(S+1)\n",
    "G_3=1/(S+3)\n",
    "H=1\n",
    "cte=(G_2*G_3)/(1 + H*G_1*G_2*G_3)\n",
    "Y=N*cte + R*G_1*cte\n",
    "###Aplico teorema del valor final\n",
    "expr3 = Limit(Y*S, S, 0)\n",
    "pprint(expr3)\n",
    "print(\"Y=\")\n",
    "pprint(expr3.doit())"
   ]
  },
  {
   "cell_type": "markdown",
   "id": "3eb0bae5",
   "metadata": {},
   "source": [
    "## Ejercicio 3)\n",
    "Dada la ecuacion:<br>\n",
    "$$y^{,,,}+ 3*y^{,,}+8*y^{,}+y=u$$\n",
    "Puedo plantear:\n",
    "$$y^{,,,,}+ a_3*y^{,,,}+a_2*y^{,,}+a_1*y^{,}+a_0*y=u\\rightarrow$$\n",
    "$$S^{4}*Y+ a_3*S^{3}*Y+a_2*S^{2}*Y+a_1*S*Y+a_0*Y=U\\rightarrow$$\n",
    "$$\\frac{Y}{U}=\\frac{1}{S^{4}+ a_3*S^{3}+a_2*S^{2}+a_1*S+a_0}\\rightarrow$$\n",
    "<img src=\"./Captura1.PNG\" align=\"center\" width=\"80%\" />\n",
    "Entonces con estos concepto desarrollados y el concepto de las matrices de estado obtenemos la respuesta al punto a:<br>\n",
    "## a)\n",
    "$$X_{punto}=A*X+B*U$$\n",
    "$$Y=C*X+D*U$$\n",
    "$$A=\\begin{bmatrix}\n",
    "0 & 1 & 0\\\\\n",
    "0 & 0 & 1\\\\\n",
    "-a_0 & -a_1 & -a_2\n",
    "\\end{bmatrix}$$\n",
    "$$B=\\begin{bmatrix}\n",
    "0 \\\\\n",
    "0 \\\\\n",
    "1\n",
    "\\end{bmatrix}$$\n",
    "$$C=\\begin{bmatrix}\n",
    "1 & 0 & 0\\\\\n",
    "\\end{bmatrix}$$\n",
    "$$D=0$$\n",
    "## b)\n",
    "Para la transferencia nos volvemos a poya en los conceptos anteriores y resulta:<br>\n",
    "$$\\frac{Y_{(S)}}{U_{(S)}}=\\frac{1}{S^{3}+3*S^{2}+8*S+1}$$\n",
    "## c)\n",
    "**Cuadro del apunte:\"SCn.txpr.error.reg.rv10.pdf\"**<br>\n",
    "$$E_{(S)}=R_{(S)}*\\frac{1}{1+G_{(S)}}$$\n",
    "$$K_p=\\lim_{S\\to 0} G(S)$$\n",
    "Viendo la $G_{(S)}$ que es de tipo 0 ya que su limite da un valor finito y la entrada un escalon($\\frac{1}{S}$) podemos determinar que es un valor finito.\n",
    "$$\\lim_{S\\to 0} \\frac{1}{S^0 + S^0*K_p}=\\frac{1}{1+K_p}$$"
   ]
  },
  {
   "cell_type": "code",
   "execution_count": 38,
   "id": "cd4f6df8",
   "metadata": {},
   "outputs": [
    {
     "name": "stdout",
     "output_type": "stream",
     "text": [
      "A=\n",
      "⎡0   1   0 ⎤\n",
      "⎢          ⎥\n",
      "⎢0   0   1 ⎥\n",
      "⎢          ⎥\n",
      "⎣-1  -8  -3⎦\n",
      "B=\n",
      "⎡0⎤\n",
      "⎢ ⎥\n",
      "⎢0⎥\n",
      "⎢ ⎥\n",
      "⎣1⎦\n",
      "C=\n",
      "[1  0  0]\n",
      "D=\n",
      "[0]\n",
      "tf=\n",
      "             1             \n",
      "───────────────────────────\n",
      "     3        2            \n",
      "1.0⋅S  + 3.0⋅S  + 8.0⋅S + 1\n",
      "                  1             \n",
      " lim ───────────────────────────\n",
      "S─→0⁺     3        2            \n",
      "     1.0⋅S  + 3.0⋅S  + 8.0⋅S + 1\n",
      "1\n",
      "Paso la tf al tiempo\n",
      "TF[0]=\n"
     ]
    },
    {
     "data": {
      "text/latex": [
       "$\\displaystyle - 0.0760391301181349 e^{- 1.43441501017074 t} \\sin{\\left(2.35926878570139 t \\right)} \\theta\\left(t\\right) - 0.137653888547033 e^{- 1.43441501017074 t} \\cos{\\left(2.35926878570139 t \\right)} \\theta\\left(t\\right) + 0.137653888547033 e^{- 0.131169979658525 t} \\theta\\left(t\\right)$"
      ],
      "text/plain": [
       "-0.0760391301181349*exp(-1.43441501017074*t)*sin(2.35926878570139*t)*Heaviside(t) - 0.137653888547033*exp(-1.43441501017074*t)*cos(2.35926878570139*t)*Heaviside(t) + 0.137653888547033*exp(-0.131169979658525*t)*Heaviside(t)"
      ]
     },
     "execution_count": 38,
     "metadata": {},
     "output_type": "execute_result"
    }
   ],
   "source": [
    "####Declaro las matrices\n",
    "A=Matrix(([0,1,0],\n",
    "          [0,0,1],\n",
    "          [-1,-8,-3]))\n",
    "B=Matrix(([0],\n",
    "          [0],\n",
    "          [1]))\n",
    "C=Matrix(([1,0,0],))\n",
    "D=Matrix(([0],))\n",
    "####Inspeccion visual de las matrices\n",
    "print(\"A=\")\n",
    "pprint(A)\n",
    "print(\"B=\")\n",
    "pprint(B)\n",
    "print(\"C=\")\n",
    "pprint(C)\n",
    "print(\"D=\")\n",
    "pprint(D)\n",
    "###Trabajo las matrices para conseguir tf\n",
    "aux=S*np.identity(3) - A\n",
    "auxinv= aux.inv('ADJ')\n",
    "### Verificacion del trabajo intermedio, medio innecesario\n",
    "#print(\"aux=\")\n",
    "#pprint(aux)\n",
    "#print(\"aux inv=\")\n",
    "#pprint(auxinv)\n",
    "#### Finalmente obtengo Tf\n",
    "tf=C * auxinv * B + D\n",
    "print(\"tf=\")\n",
    "pprint(tf[0])\n",
    "###Aplico teorema del valor final\n",
    "expr = Limit(tf[0], S, 0)\n",
    "pprint(expr)\n",
    "pprint(expr.doit())\n",
    "\n",
    "print(\"Paso la tf al tiempo\")\n",
    "t = symbols('t')\n",
    "#w = symbols('w', real = True)\n",
    "expression = tf[0]\n",
    "print(\"TF[0]=\")\n",
    "inverse_laplace_transform(expression, S, t)"
   ]
  },
  {
   "cell_type": "code",
   "execution_count": null,
   "id": "829244d1",
   "metadata": {},
   "outputs": [],
   "source": []
  }
 ],
 "metadata": {
  "kernelspec": {
   "display_name": "Python 3",
   "language": "python",
   "name": "python3"
  },
  "language_info": {
   "codemirror_mode": {
    "name": "ipython",
    "version": 3
   },
   "file_extension": ".py",
   "mimetype": "text/x-python",
   "name": "python",
   "nbconvert_exporter": "python",
   "pygments_lexer": "ipython3",
   "version": "3.8.8"
  }
 },
 "nbformat": 4,
 "nbformat_minor": 5
}
